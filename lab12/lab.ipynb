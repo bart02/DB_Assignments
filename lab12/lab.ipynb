{
 "cells": [
  {
   "cell_type": "markdown",
   "source": [
    "# Lab 11"
   ],
   "metadata": {
    "collapsed": false
   }
  },
  {
   "cell_type": "markdown",
   "source": [
    "## Connect to DBMS"
   ],
   "metadata": {
    "collapsed": false
   }
  },
  {
   "cell_type": "code",
   "execution_count": 1,
   "metadata": {
    "collapsed": true
   },
   "outputs": [],
   "source": [
    "from pymongo import MongoClient\n",
    "client = MongoClient(\"mongodb://localhost\")\n",
    "collection = client['test']['restaurants']"
   ]
  },
  {
   "cell_type": "markdown",
   "source": [
    "## Exercise 1"
   ],
   "metadata": {
    "collapsed": false
   }
  },
  {
   "cell_type": "markdown",
   "source": [
    "### Query all Indian cuisines"
   ],
   "metadata": {
    "collapsed": false
   }
  },
  {
   "cell_type": "code",
   "execution_count": 2,
   "outputs": [
    {
     "data": {
      "text/plain": "<pymongo.cursor.Cursor at 0x7fa9dc587460>"
     },
     "execution_count": 2,
     "metadata": {},
     "output_type": "execute_result"
    }
   ],
   "source": [
    "collection.find({'cuisine': 'Indian'})"
   ],
   "metadata": {
    "collapsed": false,
    "pycharm": {
     "name": "#%%\n"
    }
   }
  },
  {
   "cell_type": "markdown",
   "source": [
    "To show data we can use `list()` or `for`. Then, I'm going to use `list()` with limit."
   ],
   "metadata": {
    "collapsed": false
   }
  },
  {
   "cell_type": "code",
   "execution_count": 3,
   "outputs": [
    {
     "data": {
      "text/plain": "[{'_id': ObjectId('626684816bd12ea62c681296'),\n  'address': {'building': '320',\n   'coord': [-73.977597, 40.779593],\n   'street': 'Columbus Avenue',\n   'zipcode': '10023'},\n  'borough': 'Manhattan',\n  'cuisine': 'Indian',\n  'grades': [{'date': datetime.datetime(2014, 10, 27, 0, 0),\n    'grade': 'A',\n    'score': 7},\n   {'date': datetime.datetime(2013, 7, 29, 0, 0), 'grade': 'A', 'score': 5},\n   {'date': datetime.datetime(2013, 2, 19, 0, 0), 'grade': 'A', 'score': 11},\n   {'date': datetime.datetime(2012, 1, 12, 0, 0), 'grade': 'A', 'score': 2}],\n  'name': 'Mughlai Restaurant',\n  'restaurant_id': '40370243'},\n {'_id': ObjectId('626684816bd12ea62c681302'),\n  'address': {'building': '807',\n   'coord': [-73.96643449999999, 40.7641697],\n   'street': 'Lexington Avenue',\n   'zipcode': '10065'},\n  'borough': 'Manhattan',\n  'cuisine': 'Indian',\n  'grades': [{'date': datetime.datetime(2014, 10, 28, 0, 0),\n    'grade': 'A',\n    'score': 10},\n   {'date': datetime.datetime(2014, 7, 9, 0, 0), 'grade': 'B', 'score': 24},\n   {'date': datetime.datetime(2014, 1, 17, 0, 0), 'grade': 'A', 'score': 11},\n   {'date': datetime.datetime(2013, 5, 28, 0, 0), 'grade': 'A', 'score': 9},\n   {'date': datetime.datetime(2012, 3, 27, 0, 0), 'grade': 'A', 'score': 13},\n   {'date': datetime.datetime(2011, 11, 2, 0, 0), 'grade': 'C', 'score': 28}],\n  'name': 'Agra Restaurant',\n  'restaurant_id': '40375376'},\n {'_id': ObjectId('626684816bd12ea62c68135a'),\n  'address': {'building': '8443',\n   'coord': [-73.80112059999999, 40.7128278],\n   'street': '164 Street',\n   'zipcode': '11432'},\n  'borough': 'Queens',\n  'cuisine': 'Indian',\n  'grades': [{'date': datetime.datetime(2014, 11, 28, 0, 0),\n    'grade': 'A',\n    'score': 4},\n   {'date': datetime.datetime(2014, 6, 16, 0, 0), 'grade': 'A', 'score': 8},\n   {'date': datetime.datetime(2013, 5, 15, 0, 0), 'grade': 'A', 'score': 12},\n   {'date': datetime.datetime(2012, 5, 29, 0, 0), 'grade': 'A', 'score': 13}],\n  'name': 'Annam Braham Restaurant',\n  'restaurant_id': '40380520'},\n {'_id': ObjectId('626684816bd12ea62c68136d'),\n  'address': {'building': '345',\n   'coord': [-73.9864626, 40.7266739],\n   'street': 'East 6 Street',\n   'zipcode': '10003'},\n  'borough': 'Manhattan',\n  'cuisine': 'Indian',\n  'grades': [{'date': datetime.datetime(2014, 9, 15, 0, 0),\n    'grade': 'A',\n    'score': 5},\n   {'date': datetime.datetime(2014, 1, 14, 0, 0), 'grade': 'A', 'score': 8},\n   {'date': datetime.datetime(2013, 5, 30, 0, 0), 'grade': 'A', 'score': 12},\n   {'date': datetime.datetime(2013, 4, 24, 0, 0), 'grade': 'P', 'score': 2},\n   {'date': datetime.datetime(2012, 10, 1, 0, 0), 'grade': 'A', 'score': 9},\n   {'date': datetime.datetime(2012, 4, 6, 0, 0), 'grade': 'C', 'score': 92},\n   {'date': datetime.datetime(2011, 11, 3, 0, 0), 'grade': 'C', 'score': 41}],\n  'name': 'Gandhi',\n  'restaurant_id': '40381295'},\n {'_id': ObjectId('626684816bd12ea62c6813a6'),\n  'address': {'building': '7407',\n   'coord': [-74.0272951, 40.6318285],\n   'street': '3 Avenue',\n   'zipcode': '11209'},\n  'borough': 'Brooklyn',\n  'cuisine': 'Indian',\n  'grades': [{'date': datetime.datetime(2014, 12, 17, 0, 0),\n    'grade': 'Z',\n    'score': 15},\n   {'date': datetime.datetime(2014, 6, 19, 0, 0), 'grade': 'A', 'score': 9},\n   {'date': datetime.datetime(2013, 10, 2, 0, 0), 'grade': 'B', 'score': 16},\n   {'date': datetime.datetime(2013, 4, 15, 0, 0), 'grade': 'A', 'score': 13},\n   {'date': datetime.datetime(2012, 7, 23, 0, 0), 'grade': 'A', 'score': 6},\n   {'date': datetime.datetime(2011, 12, 20, 0, 0), 'grade': 'A', 'score': 12}],\n  'name': 'India Passage Restaurant',\n  'restaurant_id': '40384479'}]"
     },
     "execution_count": 3,
     "metadata": {},
     "output_type": "execute_result"
    }
   ],
   "source": [
    "list(collection.find({'cuisine': 'Indian'}))[:5]"
   ],
   "metadata": {
    "collapsed": false,
    "pycharm": {
     "name": "#%%\n"
    }
   }
  },
  {
   "cell_type": "markdown",
   "source": [
    "### Query all Indian and Thai cuisines"
   ],
   "metadata": {
    "collapsed": false
   }
  },
  {
   "cell_type": "code",
   "execution_count": 4,
   "outputs": [
    {
     "data": {
      "text/plain": "[{'_id': ObjectId('626684816bd12ea62c681296'),\n  'address': {'building': '320',\n   'coord': [-73.977597, 40.779593],\n   'street': 'Columbus Avenue',\n   'zipcode': '10023'},\n  'borough': 'Manhattan',\n  'cuisine': 'Indian',\n  'grades': [{'date': datetime.datetime(2014, 10, 27, 0, 0),\n    'grade': 'A',\n    'score': 7},\n   {'date': datetime.datetime(2013, 7, 29, 0, 0), 'grade': 'A', 'score': 5},\n   {'date': datetime.datetime(2013, 2, 19, 0, 0), 'grade': 'A', 'score': 11},\n   {'date': datetime.datetime(2012, 1, 12, 0, 0), 'grade': 'A', 'score': 2}],\n  'name': 'Mughlai Restaurant',\n  'restaurant_id': '40370243'},\n {'_id': ObjectId('626684816bd12ea62c6812e5'),\n  'address': {'building': '244',\n   'coord': [-73.9865289, 40.7606981],\n   'street': 'West   48 Street',\n   'zipcode': '10036'},\n  'borough': 'Manhattan',\n  'cuisine': 'Thai',\n  'grades': [{'date': datetime.datetime(2014, 8, 13, 0, 0),\n    'grade': 'A',\n    'score': 10},\n   {'date': datetime.datetime(2014, 1, 14, 0, 0), 'grade': 'B', 'score': 24},\n   {'date': datetime.datetime(2013, 7, 25, 0, 0), 'grade': 'A', 'score': 12},\n   {'date': datetime.datetime(2013, 1, 10, 0, 0), 'grade': 'C', 'score': 4},\n   {'date': datetime.datetime(2012, 6, 18, 0, 0), 'grade': 'A', 'score': 11},\n   {'date': datetime.datetime(2012, 2, 17, 0, 0), 'grade': 'P', 'score': 6}],\n  'name': 'Pongsri Thai Restaurant',\n  'restaurant_id': '40374088'},\n {'_id': ObjectId('626684816bd12ea62c681302'),\n  'address': {'building': '807',\n   'coord': [-73.96643449999999, 40.7641697],\n   'street': 'Lexington Avenue',\n   'zipcode': '10065'},\n  'borough': 'Manhattan',\n  'cuisine': 'Indian',\n  'grades': [{'date': datetime.datetime(2014, 10, 28, 0, 0),\n    'grade': 'A',\n    'score': 10},\n   {'date': datetime.datetime(2014, 7, 9, 0, 0), 'grade': 'B', 'score': 24},\n   {'date': datetime.datetime(2014, 1, 17, 0, 0), 'grade': 'A', 'score': 11},\n   {'date': datetime.datetime(2013, 5, 28, 0, 0), 'grade': 'A', 'score': 9},\n   {'date': datetime.datetime(2012, 3, 27, 0, 0), 'grade': 'A', 'score': 13},\n   {'date': datetime.datetime(2011, 11, 2, 0, 0), 'grade': 'C', 'score': 28}],\n  'name': 'Agra Restaurant',\n  'restaurant_id': '40375376'},\n {'_id': ObjectId('626684816bd12ea62c68135a'),\n  'address': {'building': '8443',\n   'coord': [-73.80112059999999, 40.7128278],\n   'street': '164 Street',\n   'zipcode': '11432'},\n  'borough': 'Queens',\n  'cuisine': 'Indian',\n  'grades': [{'date': datetime.datetime(2014, 11, 28, 0, 0),\n    'grade': 'A',\n    'score': 4},\n   {'date': datetime.datetime(2014, 6, 16, 0, 0), 'grade': 'A', 'score': 8},\n   {'date': datetime.datetime(2013, 5, 15, 0, 0), 'grade': 'A', 'score': 12},\n   {'date': datetime.datetime(2012, 5, 29, 0, 0), 'grade': 'A', 'score': 13}],\n  'name': 'Annam Braham Restaurant',\n  'restaurant_id': '40380520'},\n {'_id': ObjectId('626684816bd12ea62c68136d'),\n  'address': {'building': '345',\n   'coord': [-73.9864626, 40.7266739],\n   'street': 'East 6 Street',\n   'zipcode': '10003'},\n  'borough': 'Manhattan',\n  'cuisine': 'Indian',\n  'grades': [{'date': datetime.datetime(2014, 9, 15, 0, 0),\n    'grade': 'A',\n    'score': 5},\n   {'date': datetime.datetime(2014, 1, 14, 0, 0), 'grade': 'A', 'score': 8},\n   {'date': datetime.datetime(2013, 5, 30, 0, 0), 'grade': 'A', 'score': 12},\n   {'date': datetime.datetime(2013, 4, 24, 0, 0), 'grade': 'P', 'score': 2},\n   {'date': datetime.datetime(2012, 10, 1, 0, 0), 'grade': 'A', 'score': 9},\n   {'date': datetime.datetime(2012, 4, 6, 0, 0), 'grade': 'C', 'score': 92},\n   {'date': datetime.datetime(2011, 11, 3, 0, 0), 'grade': 'C', 'score': 41}],\n  'name': 'Gandhi',\n  'restaurant_id': '40381295'}]"
     },
     "execution_count": 4,
     "metadata": {},
     "output_type": "execute_result"
    }
   ],
   "source": [
    "list(collection.find({'cuisine': {'$in': ['Indian', 'Thai']}}))[:5]"
   ],
   "metadata": {
    "collapsed": false,
    "pycharm": {
     "name": "#%%\n"
    }
   }
  },
  {
   "cell_type": "markdown",
   "source": [
    "### Find a restaurant with the following address: 1115 Rogers Avenue, 11226"
   ],
   "metadata": {
    "collapsed": false
   }
  },
  {
   "cell_type": "code",
   "execution_count": 5,
   "outputs": [
    {
     "data": {
      "text/plain": "{'_id': ObjectId('626684816bd12ea62c6823b4'),\n 'address': {'building': '1115',\n  'coord': [-73.9513659, 40.6426492],\n  'street': 'Rogers Avenue',\n  'zipcode': '11226'},\n 'borough': 'Brooklyn',\n 'cuisine': 'Creole',\n 'grades': [{'date': datetime.datetime(2014, 12, 22, 0, 0),\n   'grade': 'A',\n   'score': 10},\n  {'date': datetime.datetime(2014, 8, 5, 0, 0), 'grade': 'A', 'score': 9},\n  {'date': datetime.datetime(2014, 2, 10, 0, 0), 'grade': 'A', 'score': 10},\n  {'date': datetime.datetime(2012, 12, 19, 0, 0), 'grade': 'A', 'score': 11},\n  {'date': datetime.datetime(2011, 12, 30, 0, 0), 'grade': 'A', 'score': 10}],\n 'name': 'Chez Macoule Restaurant',\n 'restaurant_id': '41012277'}"
     },
     "execution_count": 5,
     "metadata": {},
     "output_type": "execute_result"
    }
   ],
   "source": [
    "collection.find_one({'address.street': 'Rogers Avenue', 'address.building': '1115', 'address.zipcode': '11226'})"
   ],
   "metadata": {
    "collapsed": false,
    "pycharm": {
     "name": "#%%\n"
    }
   }
  },
  {
   "cell_type": "markdown",
   "source": [
    "## Exercise 2\n",
    "Insert into the database following restaurant:\n",
    "- Address: 1480 2 Avenue, 10075, -73.9557413, 40.7720266\n",
    "- Borough: Manhattan\n",
    "- Cuisine: Italian\n",
    "- Name: Vella\n",
    "- Id: 41704620\n",
    "- Grades:\n",
    "    - A, 11, 01 Oct, 2014"
   ],
   "metadata": {
    "collapsed": false
   }
  },
  {
   "cell_type": "code",
   "execution_count": 6,
   "outputs": [],
   "source": [
    "import datetime\n",
    "data = {\n",
    "    'address': {'building': '1480', 'coord': [-73.9557413, 40.7720266], 'street': '2 Avenue', 'zipcode': '10075'},\n",
    "    'borough': 'Manhattan', 'cuisine': 'Italian',\n",
    "    'grades': [{'date': datetime.datetime(2014, 10, 1, 0, 0), 'grade': 'A', 'score': 10}],\n",
    "    'name': 'Vella', 'restaurant_id': '41704620'}\n",
    "result = collection.insert_one(data)"
   ],
   "metadata": {
    "collapsed": false,
    "pycharm": {
     "name": "#%%\n"
    }
   }
  },
  {
   "cell_type": "code",
   "execution_count": 7,
   "outputs": [
    {
     "data": {
      "text/plain": "ObjectId('626684978ae54c81f24f7bba')"
     },
     "execution_count": 7,
     "metadata": {},
     "output_type": "execute_result"
    }
   ],
   "source": [
    "result.inserted_id"
   ],
   "metadata": {
    "collapsed": false,
    "pycharm": {
     "name": "#%%\n"
    }
   }
  },
  {
   "cell_type": "markdown",
   "source": [
    "## Exercise 3"
   ],
   "metadata": {
    "collapsed": false
   }
  },
  {
   "cell_type": "markdown",
   "source": [
    "### Delete from the database a single Manhattan located restaurant"
   ],
   "metadata": {
    "collapsed": false
   }
  },
  {
   "cell_type": "code",
   "execution_count": 8,
   "outputs": [
    {
     "data": {
      "text/plain": "{'n': 1, 'ok': 1.0}"
     },
     "execution_count": 8,
     "metadata": {},
     "output_type": "execute_result"
    }
   ],
   "source": [
    "collection.delete_one({'borough': 'Manhattan'}).raw_result"
   ],
   "metadata": {
    "collapsed": false,
    "pycharm": {
     "name": "#%%\n"
    }
   }
  },
  {
   "cell_type": "markdown",
   "source": [
    "### Delete from the database all Thai cuisines"
   ],
   "metadata": {
    "collapsed": false
   }
  },
  {
   "cell_type": "code",
   "execution_count": 9,
   "outputs": [
    {
     "data": {
      "text/plain": "{'n': 285, 'ok': 1.0}"
     },
     "execution_count": 9,
     "metadata": {},
     "output_type": "execute_result"
    }
   ],
   "source": [
    "collection.delete_many({'cuisine': 'Thai'}).raw_result"
   ],
   "metadata": {
    "collapsed": false,
    "pycharm": {
     "name": "#%%\n"
    }
   }
  },
  {
   "cell_type": "markdown",
   "source": [
    "## Exercise 4\n",
    "Query all restaurants on the Rogers Avenue street, for each of them do the following:\n",
    "- if it has more than one C grades → delete this restaurant\n",
    "- otherwise, add another C grade to this restaurant"
   ],
   "metadata": {
    "collapsed": false
   }
  },
  {
   "cell_type": "code",
   "execution_count": 10,
   "outputs": [],
   "source": [
    "rests_on_street = collection.find({'address.street': 'Rogers Avenue', 'grades.grade': 'C'})"
   ],
   "metadata": {
    "collapsed": false,
    "pycharm": {
     "name": "#%%\n"
    }
   }
  },
  {
   "cell_type": "code",
   "execution_count": 11,
   "outputs": [],
   "source": [
    "rests_with_cc = []\n",
    "for e in rests_on_street:\n",
    "    c_counter = 0\n",
    "    for g in e['grades']:\n",
    "        if g['grade'] == 'C':\n",
    "            c_counter += 1\n",
    "    if c_counter > 1:\n",
    "        collection.delete_one(e)\n",
    "    else:\n",
    "        collection.update_one(e, {'$push': {'grades': {'date': datetime.datetime(2014, 10, 1, 0, 0), 'grade': 'C', 'score': 10}}})"
   ],
   "metadata": {
    "collapsed": false,
    "pycharm": {
     "name": "#%%\n"
    }
   }
  }
 ],
 "metadata": {
  "kernelspec": {
   "display_name": "Python 3",
   "language": "python",
   "name": "python3"
  },
  "language_info": {
   "codemirror_mode": {
    "name": "ipython",
    "version": 2
   },
   "file_extension": ".py",
   "mimetype": "text/x-python",
   "name": "python",
   "nbconvert_exporter": "python",
   "pygments_lexer": "ipython2",
   "version": "2.7.6"
  }
 },
 "nbformat": 4,
 "nbformat_minor": 0
}